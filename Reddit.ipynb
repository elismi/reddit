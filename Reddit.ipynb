{
 "cells": [
  {
   "cell_type": "code",
   "execution_count": null,
   "metadata": {},
   "outputs": [],
   "source": [
    "pip install praw"
   ]
  },
  {
   "cell_type": "code",
   "execution_count": null,
   "metadata": {},
   "outputs": [],
   "source": [
    "import praw\n",
    "import time\n",
    "import datetime\n",
    "import pandas as pd\n",
    "\n",
    "str_client_id = 'fYRWm5jkNOpIWA'\n",
    "str_client_secret = 'zKi7IdnZZ-5xDxw_jc-HBZpEjN0HZQ'\n",
    "str_user_agent = 'RedBat'\n",
    "str_file_name = 'Posts.csv'\n",
    "\n",
    "df_all_posts = pd.read_csv(str_file_name)\n",
    "# Delete first\n",
    "if df_all_posts.shape[0] != 0 :\n",
    "    str_col_name = df_all_posts.columns[0]\n",
    "    df_all_posts = df_all_posts.drop([str_col_name], axis=1)\n",
    "\n",
    "dict_posts = {}\n",
    "\n",
    "if df_all_posts.empty == False:\n",
    "    for index, post in df_all_posts.iterrows():\n",
    "        dict_posts[post['Id']] = post\n",
    "\n",
    "features = ['Subreddit',\n",
    "            'Id', \n",
    "            'Created',\n",
    "            'Author',\n",
    "            'Score', \n",
    "            'Is_Original_Content', \n",
    "            'Num_Comments', \n",
    "            'Flair', \n",
    "            'Title', \n",
    "            'Selftext']\n",
    "\n",
    "obj_reddit = praw.Reddit(client_id=str_client_id, client_secret=str_client_secret, user_agent=str_user_agent)\n",
    "int_count = 1\n",
    "\n",
    "while True:\n",
    "    obj_subredit = obj_reddit.subreddit('wallstreetbets')\n",
    "    int_unique = 0\n",
    "    for post in obj_subredit.new():\n",
    "        if post.id in dict_posts.keys():\n",
    "            dict_posts[post.id].Num_Comments = post.num_comments\n",
    "        else:\n",
    "            list_posts =[[post.subreddit, \n",
    "                          post.id, \n",
    "                          datetime.datetime.utcfromtimestamp(post.created),\n",
    "                          post.author,\n",
    "                          post.score, \n",
    "                          post.is_original_content, \n",
    "                          post.num_comments, \n",
    "                          post.link_flair_text, \n",
    "                          post.title.encode('utf8'), \n",
    "                          post.selftext.encode('utf8')]]\n",
    "                \n",
    "            df_post = pd.DataFrame(list_posts, columns=features)\n",
    "            df_all_posts = pd.concat([df_all_posts, df_post])\n",
    "                \n",
    "            dict_posts[post.id] = df_post\n",
    "            int_unique += 1\n",
    "\n",
    "    df_all_posts.to_csv(str_file_name)\n",
    "    print('Running! Exectued once at: ' + datetime.datetime.now().strftime(\"%d/%m/%Y %H:%M:%S\") + ' Total: ' + str(df_all_posts.shape[0]) + ' New: ' + str(int_unique))\n",
    "    \n",
    "    int_count += 1\n",
    "    if(int_count > 9):\n",
    "        break\n",
    "    time.sleep(60)\n",
    "    "
   ]
  },
  {
   "cell_type": "code",
   "execution_count": null,
   "metadata": {},
   "outputs": [],
   "source": [
    "obj_post = obj_reddit.submission(id=\"l9d89z\")\n",
    "\n",
    "obj_post.comments.replace_more(limit=None)\n",
    "for comment in obj_post.comments.list():\n",
    "    print(comment.__dict__)"
   ]
  }
 ],
 "metadata": {
  "kernelspec": {
   "display_name": "Python 3",
   "language": "python",
   "name": "python3"
  },
  "language_info": {
   "codemirror_mode": {
    "name": "ipython",
    "version": 3
   },
   "file_extension": ".py",
   "mimetype": "text/x-python",
   "name": "python",
   "nbconvert_exporter": "python",
   "pygments_lexer": "ipython3",
   "version": "3.7.6"
  }
 },
 "nbformat": 4,
 "nbformat_minor": 4
}
