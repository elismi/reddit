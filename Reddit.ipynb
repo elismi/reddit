{
 "cells": [
  {
   "cell_type": "code",
   "execution_count": null,
   "metadata": {},
   "outputs": [],
   "source": [
    "pip install praw"
   ]
  },
  {
   "cell_type": "code",
   "execution_count": null,
   "metadata": {},
   "outputs": [],
   "source": [
    "import praw\n",
    "import time\n",
    "import datetime\n",
    "import pandas as pd\n",
    "\n",
    "str_subdir = 'Files/New/'\n",
    "df_all_posts = pd.read_csv('posts.csv')\n",
    "str_col_name = df_all_posts.columns[0]\n",
    "# Delete first\n",
    "df_all_posts = df_all_posts.drop([str_col_name], axis=1)\n",
    "features = ['Title', \n",
    "            'Score', \n",
    "            'Id', \n",
    "            'Subreddit', \n",
    "            'URL', \n",
    "            'Is_Original_Content', \n",
    "            'Num_comments', \n",
    "            'Flair', \n",
    "            #'Selftext', \n",
    "            'Author',\n",
    "            'Created']\n",
    "\n",
    "obj_reddit = praw.Reddit(client_id='fYRWm5jkNOpIWA', client_secret='zKi7IdnZZ-5xDxw_jc-HBZpEjN0HZQ', user_agent='RedBat')\n",
    "int_count = 1\n",
    "\n",
    "while True:\n",
    "    list_posts = [] \n",
    "    obj_subredit = obj_reddit.subreddit('wallstreetbets')\n",
    "    for post in obj_subredit.new():\n",
    "        list_posts.append([post.title.encode('utf8'), \n",
    "                          post.score, \n",
    "                          post.id, \n",
    "                          post.subreddit, \n",
    "                          post.url, \n",
    "                          post.is_original_content, \n",
    "                          post.num_comments, \n",
    "                          post.link_flair_text, \n",
    "                          #post.selftext, \n",
    "                          post.author,\n",
    "                          datetime.datetime.utcfromtimestamp(post.created)])\n",
    "        #print(type(post.selftext))\n",
    "        file_post = open(str_subdir + post.id + \".txt\", 'wb')\n",
    "        file_post.write(post.selftext.encode('utf8')) \n",
    "        file_post.close()\n",
    "    df_new_posts = pd.DataFrame(list_posts, columns=features)\n",
    "    df_all_posts = pd.concat([df_all_posts, df_new_posts]).drop_duplicates().reset_index(drop=True)\n",
    "    df_all_posts.to_csv('posts.csv')\n",
    "    print('Running! Exectued once at: ' + datetime.datetime.now().strftime(\"%d/%m/%Y %H:%M:%S\"))\n",
    "    int_count += 1\n",
    "    if(int_count > 9):\n",
    "        break\n",
    "    time.sleep(60)\n",
    "    "
   ]
  },
  {
   "cell_type": "code",
   "execution_count": null,
   "metadata": {},
   "outputs": [],
   "source": [
    "obj_reddit = praw.Reddit(client_id='fYRWm5jkNOpIWA', client_secret='zKi7IdnZZ-5xDxw_jc-HBZpEjN0HZQ', user_agent='RedBat')\n",
    "obj_post = obj_reddit.submission(id=\"l9d89z\")\n",
    "\n",
    "obj_post.comments.replace_more(limit=None)\n",
    "for comment in obj_post.comments.list():\n",
    "    print(comment.__dict__)"
   ]
  },
  {
   "cell_type": "code",
   "execution_count": null,
   "metadata": {},
   "outputs": [],
   "source": []
  },
  {
   "cell_type": "code",
   "execution_count": null,
   "metadata": {},
   "outputs": [],
   "source": []
  },
  {
   "cell_type": "code",
   "execution_count": null,
   "metadata": {
    "scrolled": false
   },
   "outputs": [],
   "source": []
  },
  {
   "cell_type": "code",
   "execution_count": null,
   "metadata": {},
   "outputs": [],
   "source": []
  },
  {
   "cell_type": "code",
   "execution_count": null,
   "metadata": {},
   "outputs": [],
   "source": []
  }
 ],
 "metadata": {
  "kernelspec": {
   "display_name": "Python 3",
   "language": "python",
   "name": "python3"
  },
  "language_info": {
   "codemirror_mode": {
    "name": "ipython",
    "version": 3
   },
   "file_extension": ".py",
   "mimetype": "text/x-python",
   "name": "python",
   "nbconvert_exporter": "python",
   "pygments_lexer": "ipython3",
   "version": "3.7.6"
  }
 },
 "nbformat": 4,
 "nbformat_minor": 4
}
